{
 "cells": [
  {
   "cell_type": "markdown",
   "id": "38fc399d",
   "metadata": {},
   "source": [
    "# 📺 Amazon Prime Video Analysis\n",
    "\n",
    "This project is about understanding what kind of shows and movies are available on Amazon Prime Video. We'll look at things like genres, ratings, and how many movies or shows were released each year."
   ]
  },
  {
   "cell_type": "markdown",
   "id": "b27685e5",
   "metadata": {},
   "source": [
    "### What are we trying to find out?\n",
    "- Which genres are most common?\n",
    "- Are there more movies or TV shows?\n",
    "- What are the average ratings like?\n",
    "- How has the content changed over time?\n",
    "- What kind of data is available in the files?"
   ]
  },
  {
   "cell_type": "code",
   "execution_count": null,
   "id": "4d72b331",
   "metadata": {},
   "outputs": [],
   "source": [
    "import pandas as pd\n",
    "import numpy as np\n",
    "import matplotlib.pyplot as plt\n",
    "import seaborn as sns\n",
    "import ast\n",
    "sns.set(style=\"whitegrid\")"
   ]
  },
  {
   "cell_type": "code",
   "execution_count": null,
   "id": "98755714",
   "metadata": {},
   "outputs": [],
   "source": [
    "# Load the data files\n",
    "titles = pd.read_csv('/mnt/data/titles.csv')\n",
    "credits = pd.read_csv('/mnt/data/credits.csv')"
   ]
  },
  {
   "cell_type": "code",
   "execution_count": null,
   "id": "1f0a2716",
   "metadata": {},
   "outputs": [],
   "source": [
    "# Show first few rows of the data\n",
    "print(titles.head())\n",
    "print(credits.head())"
   ]
  },
  {
   "cell_type": "code",
   "execution_count": null,
   "id": "2b4347e3",
   "metadata": {},
   "outputs": [],
   "source": [
    "# Check the structure of the data\n",
    "titles.info()\n",
    "credits.info()"
   ]
  },
  {
   "cell_type": "code",
   "execution_count": null,
   "id": "8e180628",
   "metadata": {},
   "outputs": [],
   "source": [
    "# See basic statistics of numerical columns\n",
    "print(titles.describe())"
   ]
  },
  {
   "cell_type": "code",
   "execution_count": null,
   "id": "78d6a657",
   "metadata": {},
   "outputs": [],
   "source": [
    "# Check how many missing values are in each column\n",
    "print(titles.isnull().sum())"
   ]
  },
  {
   "cell_type": "code",
   "execution_count": null,
   "id": "7d162594",
   "metadata": {},
   "outputs": [],
   "source": [
    "# Fill missing values so we can work better with the data\n",
    "titles['age_certification'].fillna('Unknown', inplace=True)\n",
    "titles['imdb_score'].fillna(titles['imdb_score'].median(), inplace=True)\n",
    "titles['imdb_votes'].fillna(0, inplace=True)\n",
    "titles['tmdb_score'].fillna(titles['tmdb_score'].median(), inplace=True)\n",
    "titles['tmdb_popularity'].fillna(titles['tmdb_popularity'].median(), inplace=True)"
   ]
  },
  {
   "cell_type": "code",
   "execution_count": null,
   "id": "5fa137d2",
   "metadata": {},
   "outputs": [],
   "source": [
    "# Convert genres and countries from string to list\n",
    "titles['genres'] = titles['genres'].apply(ast.literal_eval)\n",
    "titles['production_countries'] = titles['production_countries'].apply(ast.literal_eval)"
   ]
  },
  {
   "cell_type": "code",
   "execution_count": null,
   "id": "1be70ea7",
   "metadata": {},
   "outputs": [],
   "source": [
    "# Let's see the most common genres\n",
    "from collections import Counter\n",
    "genre_counts = Counter([genre for sublist in titles['genres'] for genre in sublist])\n",
    "genre_df = pd.DataFrame(genre_counts.items(), columns=['Genre', 'Count']).sort_values(by='Count', ascending=False)\n",
    "\n",
    "plt.figure(figsize=(10,6))\n",
    "sns.barplot(data=genre_df.head(10), x='Count', y='Genre')\n",
    "plt.title(\"Top 10 Genres on Amazon Prime\")\n",
    "plt.show()"
   ]
  },
  {
   "cell_type": "code",
   "execution_count": null,
   "id": "8bdd69f4",
   "metadata": {},
   "outputs": [],
   "source": [
    "# Are there more movies or TV shows?\n",
    "type_counts = titles['type'].value_counts()\n",
    "plt.figure(figsize=(6,6))\n",
    "plt.pie(type_counts, labels=type_counts.index, autopct='%1.1f%%')\n",
    "plt.title(\"Movies vs TV Shows\")\n",
    "plt.show()"
   ]
  },
  {
   "cell_type": "code",
   "execution_count": null,
   "id": "ae352ef7",
   "metadata": {},
   "outputs": [],
   "source": [
    "# Let's see how many titles came out over the years\n",
    "plt.figure(figsize=(12,6))\n",
    "sns.countplot(data=titles, x='release_year', order=titles['release_year'].value_counts().index[:20])\n",
    "plt.title(\"Most Active Release Years\")\n",
    "plt.xticks(rotation=45)\n",
    "plt.show()"
   ]
  },
  {
   "cell_type": "code",
   "execution_count": null,
   "id": "a77c18d0",
   "metadata": {},
   "outputs": [],
   "source": [
    "# Compare IMDb scores of movies and shows\n",
    "plt.figure(figsize=(8,5))\n",
    "sns.boxplot(data=titles, x='type', y='imdb_score')\n",
    "plt.title(\"IMDb Scores: Movies vs Shows\")\n",
    "plt.show()"
   ]
  },
  {
   "cell_type": "code",
   "execution_count": null,
   "id": "b7d90da8",
   "metadata": {},
   "outputs": [],
   "source": [
    "# Let's look at how ratings and popularity relate\n",
    "cols = ['imdb_score', 'imdb_votes', 'tmdb_popularity', 'tmdb_score', 'runtime']\n",
    "plt.figure(figsize=(8,6))\n",
    "sns.heatmap(titles[cols].corr(), annot=True, cmap='Blues')\n",
    "plt.title(\"Relationship Between Scores and Popularity\")\n",
    "plt.show()"
   ]
  },
  {
   "cell_type": "markdown",
   "id": "4a5a34cf",
   "metadata": {},
   "source": [
    "### Final Thoughts\n",
    "- Most content is movies.\n",
    "- Drama and Comedy are the top genres.\n",
    "- Many titles were added in recent years.\n",
    "- IMDb and TMDB scores show similar trends.\n",
    "\n",
    "This project helps us understand what type of content is popular on Amazon Prime."
   ]
  }
 ],
 "metadata": {},
 "nbformat": 4,
 "nbformat_minor": 5
}